{
 "cells": [
  {
   "cell_type": "code",
   "execution_count": null,
   "metadata": {
    "collapsed": false,
    "slideshow": {
     "slide_type": "fragment"
    }
   },
   "outputs": [],
   "source": [
    "import ROOT as rt"
   ]
  },
  {
   "cell_type": "code",
   "execution_count": null,
   "metadata": {
    "collapsed": false,
    "slideshow": {
     "slide_type": "fragment"
    }
   },
   "outputs": [],
   "source": [
    "rt.gStyle.SetPadTopMargin(0.08)\n",
    "rt.gStyle.SetPadBottomMargin(0.12)\n",
    "rt.gStyle.SetPadLeftMargin(0.15)\n",
    "rt.gStyle.SetPadRightMargin(0.05)\n",
    "rt.gStyle.SetOptStat(0)\n",
    "rt.TH1.SetDefaultSumw2()"
   ]
  },
  {
   "cell_type": "code",
   "execution_count": null,
   "metadata": {
    "collapsed": false,
    "slideshow": {
     "slide_type": "fragment"
    }
   },
   "outputs": [],
   "source": [
    "f_in = rt.TFile.Open('histos_SingleMuTrigAnalyzer.root')\n",
    "\n",
    "c_tmp = rt.TCanvas()\n",
    "\n",
    "######################\n",
    "## Efficiency vs pT ##\n",
    "######################\n",
    "h_pt_denom = f_in.Get(\"singleMuTrigAnalyzerMiniAOD/h_pt_probe_all\")\n",
    "h_pt_num = f_in.Get(\"singleMuTrigAnalyzerMiniAOD/h_pt_probe_pass\")\n",
    "\n",
    "h_pt_eff = rt.TEfficiency(h_pt_num, h_pt_denom)\n",
    "h_pt_eff.SetLineColor(rt.kRed)\n",
    "h_pt_eff.SetMarkerColor(rt.kRed)\n",
    "\n",
    "c_tmp.cd()\n",
    "h_pt_eff.Draw()\n",
    "rt.gPad.Update()\n",
    "g_pt_eff = h_pt_eff.GetPaintedGraph()\n",
    "g_pt_eff.SetTitle(\";p_{T} [GeV];Efficiency of HLT_IsoMu24\")\n",
    "\n",
    "g_pt_eff.GetYaxis().SetTitleOffset(0.98)\n",
    "g_pt_eff.GetXaxis().SetTitleOffset(1.2)\n",
    "\n",
    "c_pt = rt.TCanvas(\"c_pt\",\"c_pt\")\n",
    "c_pt.SetGrid(1,1)\n",
    "c_pt.cd()\n",
    "g_pt_eff.Draw(\"pe\")\n",
    "\n",
    "\n",
    "#######################\n",
    "## Efficiency vs eta ##\n",
    "#######################\n",
    "h_eta_denom = f_in.Get(\"singleMuTrigAnalyzerMiniAOD/h_eta_probe_all\")\n",
    "h_eta_num = f_in.Get(\"singleMuTrigAnalyzerMiniAOD/h_eta_probe_pass\")\n",
    "\n",
    "h_eta_eff = rt.TEfficiency(h_eta_num, h_eta_denom)\n",
    "h_eta_eff.SetLineColor(rt.kRed)\n",
    "h_eta_eff.SetMarkerColor(rt.kRed)\n",
    "\n",
    "c_tmp.cd()\n",
    "h_eta_eff.Draw()\n",
    "rt.gPad.Update()\n",
    "g_eta_eff = h_eta_eff.GetPaintedGraph()\n",
    "g_eta_eff.SetTitle(\";#eta;Efficiency of HLT_IsoMu24\")\n",
    "\n",
    "g_eta_eff.GetYaxis().SetRangeUser(0, 1.05)\n",
    "\n",
    "c_eta = rt.TCanvas(\"c_eta\",\"c_eta\")\n",
    "c_eta.SetGrid(1,1)\n",
    "c_eta.cd()\n",
    "g_eta_eff.Draw(\"pe\")\n",
    "\n",
    "\n",
    "#######################\n",
    "## Efficiency vs phi ##\n",
    "#######################\n",
    "h_phi_denom = f_in.Get(\"singleMuTrigAnalyzerMiniAOD/h_phi_probe_all\")\n",
    "h_phi_num = f_in.Get(\"singleMuTrigAnalyzerMiniAOD/h_phi_probe_pass\")\n",
    "\n",
    "h_phi_eff = rt.TEfficiency(h_phi_num, h_phi_denom)\n",
    "h_phi_eff.SetLineColor(rt.kRed)\n",
    "h_phi_eff.SetMarkerColor(rt.kRed)\n",
    "\n",
    "c_tmp.cd()\n",
    "h_phi_eff.Draw()\n",
    "rt.gPad.Update()\n",
    "g_phi_eff = h_phi_eff.GetPaintedGraph()\n",
    "g_phi_eff.SetTitle(\";#phi;Efficiency of HLT_IsoMu24\")\n",
    "\n",
    "g_phi_eff.GetYaxis().SetRangeUser(0, 1.05)\n",
    "\n",
    "c_phi = rt.TCanvas(\"c_phi\",\"c_phi\")\n",
    "c_phi.SetGrid(1,1)\n",
    "c_phi.cd()\n",
    "g_phi_eff.Draw(\"pe\")"
   ]
  },
  {
   "cell_type": "code",
   "execution_count": null,
   "metadata": {
    "collapsed": false,
    "slideshow": {
     "slide_type": "slide"
    }
   },
   "outputs": [],
   "source": [
    "%jsroot on\n",
    "c_pt.Draw()"
   ]
  },
  {
   "cell_type": "code",
   "execution_count": null,
   "metadata": {
    "collapsed": false,
    "slideshow": {
     "slide_type": "slide"
    }
   },
   "outputs": [],
   "source": [
    "c_eta.Draw()"
   ]
  },
  {
   "cell_type": "code",
   "execution_count": null,
   "metadata": {
    "collapsed": false,
    "slideshow": {
     "slide_type": "slide"
    }
   },
   "outputs": [],
   "source": [
    "c_phi.Draw()"
   ]
  }
 ],
 "metadata": {
  "kernelspec": {
   "display_name": "Python 2",
   "language": "python",
   "name": "python2"
  },
  "language_info": {
   "codemirror_mode": {
    "name": "ipython",
    "version": 2
   },
   "file_extension": ".py",
   "mimetype": "text/x-python",
   "name": "python",
   "nbconvert_exporter": "python",
   "pygments_lexer": "ipython2",
   "version": "2.7.11"
  }
 },
 "nbformat": 4,
 "nbformat_minor": 2
}
