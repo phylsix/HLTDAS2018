{
 "cells": [
  {
   "cell_type": "code",
   "execution_count": null,
   "metadata": {
    "collapsed": false
   },
   "outputs": [],
   "source": [
    "import ROOT as rt"
   ]
  },
  {
   "cell_type": "code",
   "execution_count": null,
   "metadata": {
    "collapsed": false
   },
   "outputs": [],
   "source": [
    "rt.gStyle.SetPadTopMargin(0.08)\n",
    "rt.gStyle.SetPadBottomMargin(0.12)\n",
    "rt.gStyle.SetPadLeftMargin(0.15)\n",
    "rt.gStyle.SetPadRightMargin(0.05)\n",
    "rt.gStyle.SetOptStat(0)\n",
    "rt.TH1.SetDefaultSumw2()"
   ]
  },
  {
   "cell_type": "code",
   "execution_count": null,
   "metadata": {
    "collapsed": false
   },
   "outputs": [],
   "source": [
    "f_in = rt.TFile.Open('histos_SingleMuTrigAnalyzer.root')\n",
    "\n",
    "h_pt_denom = f_in.Get(\"singleMuTrigAnalyzerMiniAOD/h_pt_probe_all\")\n",
    "h_pt_num = f_in.Get(\"singleMuTrigAnalyzerMiniAOD/h_pt_probe_pass\")\n",
    "\n",
    "c_pt = rt.TCanvas(\"c_pt\",\"c_pt\")\n",
    "c_pt.SetGrid(1,1)\n",
    "c_pt.cd()\n",
    "\n",
    "h_pt_axis = rt.TH2F(\"h_pt_axis\",\"p_{T} [GeV]Efficiency of HLT_IsoMu22\",100,0,100,20,0,1)\n",
    "h_pt_axis.GetYaxis().SetTitleOffset(0.98)\n",
    "h_pt_axis.Draw()\n",
    "\n",
    "h_pt_eff = rt.TEfficiency(h_pt_num, h_pt_denom)\n",
    "h_pt_eff.SetLineColor(rt.kRed)\n",
    "h_pt_eff.SetMarkerColor(rt.kRed)\n",
    "\n",
    "h_pt_eff.Draw(\"pe same\")\n",
    "\n",
    "h_eta_denom = f_in.Get(\"singleMuTrigAnalyzerMiniAOD/h_eta_probe_all\")\n",
    "h_eta_num = f_in.Get(\"singleMuTrigAnalyzerMiniAOD/h_eta_probe_pass\")\n",
    "\n",
    "c_eta = rt.TCanvas(\"c_eta\",\"c_eta\")\n",
    "c_eta.SetGrid(1,1)\n",
    "c_eta.cd()\n",
    "\n",
    "h_eta_axis = rt.TH2F(\"h_eta_axis\",\"#etaEfficiency of HLT_IsoMu22\",100,-3.,3.,20,0,1)\n",
    "h_eta_axis.GetYaxis().SetTitleOffset(0.98)\n",
    "h_eta_axis.Draw()\n",
    "\n",
    "h_eta_eff = rt.TEfficiency(h_eta_num, h_eta_denom)\n",
    "h_eta_eff.SetLineColor(rt.kRed)\n",
    "h_eta_eff.SetMarkerColor(rt.kRed)\n",
    "\n",
    "h_eta_eff.Draw(\"pe same\")\n",
    "\n",
    "h_phi_denom = f_in.Get(\"singleMuTrigAnalyzerMiniAOD/h_phi_probe_all\")\n",
    "h_phi_num = f_in.Get(\"singleMuTrigAnalyzerMiniAOD/h_phi_probe_pass\")\n",
    "\n",
    "c_phi = rt.TCanvas(\"c_phi\",\"c_phi\")\n",
    "c_phi.SetGrid(1,1)\n",
    "c_phi.cd()\n",
    "\n",
    "h_phi_axis = rt.TH2F(\"h_phi_axis\",\"#phiEfficiency of HLT_IsoMu22\",100,-3.14,3.14,20,0,1)\n",
    "h_phi_axis.GetYaxis().SetTitleOffset(0.98)\n",
    "h_phi_axis.Draw()\n",
    "\n",
    "h_phi_eff = rt.TEfficiency(h_phi_num, h_phi_denom)\n",
    "h_phi_eff.SetLineColor(rt.kRed)\n",
    "h_phi_eff.SetMarkerColor(rt.kRed)\n",
    "\n",
    "h_phi_eff.Draw(\"pe same\")"
   ]
  },
  {
   "cell_type": "code",
   "execution_count": null,
   "metadata": {
    "collapsed": false
   },
   "outputs": [],
   "source": [
    "%jsroot on\n",
    "c_pt.Draw()"
   ]
  },
  {
   "cell_type": "code",
   "execution_count": null,
   "metadata": {
    "collapsed": false
   },
   "outputs": [],
   "source": [
    "c_eta.Draw()"
   ]
  },
  {
   "cell_type": "code",
   "execution_count": null,
   "metadata": {
    "collapsed": false
   },
   "outputs": [],
   "source": [
    "c_phi.Draw()"
   ]
  }
 ],
 "metadata": {
  "kernelspec": {
   "display_name": "Python 2",
   "language": "python",
   "name": "python2"
  },
  "language_info": {
   "codemirror_mode": {
    "name": "ipython",
    "version": 2
   },
   "file_extension": ".py",
   "mimetype": "text/x-python",
   "name": "python",
   "nbconvert_exporter": "python",
   "pygments_lexer": "ipython2",
   "version": "2.7.11"
  }
 },
 "nbformat": 4,
 "nbformat_minor": 2
}
