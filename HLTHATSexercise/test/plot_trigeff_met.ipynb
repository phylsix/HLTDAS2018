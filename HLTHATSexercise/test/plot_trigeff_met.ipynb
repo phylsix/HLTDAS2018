{
 "cells": [
  {
   "cell_type": "code",
   "execution_count": null,
   "metadata": {
    "collapsed": false
   },
   "outputs": [],
   "source": [
    "import ROOT as rt"
   ]
  },
  {
   "cell_type": "code",
   "execution_count": null,
   "metadata": {
    "collapsed": false
   },
   "outputs": [],
   "source": [
    "rt.gStyle.SetPadTopMargin(0.08)\n",
    "rt.gStyle.SetPadBottomMargin(0.12)\n",
    "rt.gStyle.SetPadLeftMargin(0.15)\n",
    "rt.gStyle.SetPadRightMargin(0.05)\n",
    "rt.gStyle.SetOptStat(0)\n",
    "rt.TH1.SetDefaultSumw2()"
   ]
  },
  {
   "cell_type": "code",
   "execution_count": null,
   "metadata": {
    "collapsed": false
   },
   "outputs": [],
   "source": [
    "f_in = rt.TFile.Open('histos_METTrigAnalyzer.root','read')\n",
    "\n",
    "h_met_denom = f_in.Get(\"metTrigAnalyzerMiniAOD/h_met_all\")\n",
    "h_met_num = f_in.Get(\"metTrigAnalyzerMiniAOD/h_met_passtrig\")\n",
    "\n",
    "c_met = rt.TCanvas(\"c_met\",\"c_met\")\n",
    "c_met.SetGrid(1,1)\n",
    "c_met.cd()\n",
    "\n",
    "h_met_axis = rt.TH2F(\"h_met_axis\",\";E_{T}^{miss} [GeV];Efficiency of HLT_PFMET170\",40,100,500,20,0,1)\n",
    "h_met_axis.GetYaxis().SetTitleOffset(0.98)\n",
    "h_met_axis.Draw()\n",
    "  \n",
    "h_met_eff = rt.TEfficiency(h_met_num, h_met_denom)\n",
    "h_met_eff.SetLineColor(rt.kRed)\n",
    "h_met_eff.SetMarkerColor(rt.kRed)\n",
    "  \n",
    "h_met_eff.Draw(\"pe same\")"
   ]
  },
  {
   "cell_type": "code",
   "execution_count": null,
   "metadata": {
    "collapsed": false
   },
   "outputs": [],
   "source": [
    "%jsroot on\n",
    "c_met.Draw()"
   ]
  }
 ],
 "metadata": {
  "kernelspec": {
   "display_name": "Python 2",
   "language": "python",
   "name": "python2"
  },
  "language_info": {
   "codemirror_mode": {
    "name": "ipython",
    "version": 2
   },
   "file_extension": ".py",
   "mimetype": "text/x-python",
   "name": "python",
   "nbconvert_exporter": "python",
   "pygments_lexer": "ipython2",
   "version": "2.7.11"
  }
 },
 "nbformat": 4,
 "nbformat_minor": 2
}
