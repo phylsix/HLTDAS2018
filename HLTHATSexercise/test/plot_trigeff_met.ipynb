{
 "cells": [
  {
   "cell_type": "code",
   "execution_count": null,
   "metadata": {
    "collapsed": false,
    "slideshow": {
     "slide_type": "fragment"
    }
   },
   "outputs": [],
   "source": [
    "import ROOT as rt"
   ]
  },
  {
   "cell_type": "code",
   "execution_count": null,
   "metadata": {
    "collapsed": false,
    "slideshow": {
     "slide_type": "fragment"
    }
   },
   "outputs": [],
   "source": [
    "rt.gStyle.SetPadTopMargin(0.08)\n",
    "rt.gStyle.SetPadBottomMargin(0.12)\n",
    "rt.gStyle.SetPadLeftMargin(0.15)\n",
    "rt.gStyle.SetPadRightMargin(0.05)\n",
    "rt.gStyle.SetOptStat(0)\n",
    "rt.TH1.SetDefaultSumw2()"
   ]
  },
  {
   "cell_type": "code",
   "execution_count": null,
   "metadata": {
    "collapsed": false,
    "slideshow": {
     "slide_type": "fragment"
    }
   },
   "outputs": [],
   "source": [
    "f_in = rt.TFile.Open('histos_METTrigAnalyzer.root','read')\n",
    "\n",
    "c_tmp = rt.TCanvas()\n",
    "\n",
    "h_met_denom = f_in.Get(\"metTrigAnalyzerMiniAOD/h_met_all\")\n",
    "h_met_num = f_in.Get(\"metTrigAnalyzerMiniAOD/h_met_passtrig\")\n",
    "  \n",
    "h_met_eff = rt.TEfficiency(h_met_num, h_met_denom)\n",
    "h_met_eff.SetLineColor(rt.kRed)\n",
    "h_met_eff.SetMarkerColor(rt.kRed)\n",
    "\n",
    "c_tmp.cd()\n",
    "h_met_eff.Draw()\n",
    "rt.gPad.Update()\n",
    "g_met_eff = h_met_eff.GetPaintedGraph()\n",
    "\n",
    "c_met = rt.TCanvas(\"c_met\",\"c_met\")\n",
    "c_met.SetGrid(1,1)\n",
    "c_met.cd()\n",
    "g_met_eff.SetTitle(\";E_{T}^{miss} [GeV];Efficiency of HLT_PFMET170\")\n",
    "g_met_eff.GetYaxis().SetTitleOffset(0.98)\n",
    "g_met_eff.GetXaxis().SetTitleOffset(1.2)\n",
    "g_met_eff.Draw(\"pe\")\n"
   ]
  },
  {
   "cell_type": "code",
   "execution_count": null,
   "metadata": {
    "collapsed": false,
    "slideshow": {
     "slide_type": "slide"
    }
   },
   "outputs": [],
   "source": [
    "%jsroot on\n",
    "c_met.Draw()"
   ]
  }
 ],
 "metadata": {
  "kernelspec": {
   "display_name": "Python 2",
   "language": "python",
   "name": "python2"
  },
  "language_info": {
   "codemirror_mode": {
    "name": "ipython",
    "version": 2
   },
   "file_extension": ".py",
   "mimetype": "text/x-python",
   "name": "python",
   "nbconvert_exporter": "python",
   "pygments_lexer": "ipython2",
   "version": "2.7.11"
  }
 },
 "nbformat": 4,
 "nbformat_minor": 2
}
